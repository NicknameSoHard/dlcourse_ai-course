{
  "nbformat": 4,
  "nbformat_minor": 0,
  "metadata": {
    "accelerator": "GPU",
    "colab": {
      "name": "PyTorch_CNN.ipynb",
      "provenance": [],
      "collapsed_sections": []
    },
    "kernelspec": {
      "name": "python3",
      "display_name": "Python 3"
    },
    "language_info": {
      "codemirror_mode": {
        "name": "ipython",
        "version": 3
      },
      "file_extension": ".py",
      "mimetype": "text/x-python",
      "name": "python",
      "nbconvert_exporter": "python",
      "pygments_lexer": "ipython3",
      "version": "3.7.0"
    }
  },
  "cells": [
    {
      "cell_type": "markdown",
      "metadata": {
        "id": "i-Xf4s-18rhJ",
        "colab_type": "text"
      },
      "source": [
        "# Задание 3.2 - сверточные нейронные сети (CNNs) в PyTorch\n",
        "\n",
        "Это упражнение мы буде выполнять в Google Colab - https://colab.research.google.com/  \n",
        "Google Colab позволяет запускать код в notebook в облаке Google, где можно воспользоваться бесплатным GPU!  \n",
        "\n",
        "Авторы курса благодарят компанию Google и надеятся, что праздник не закончится.\n",
        "\n",
        "Туториал по настройке Google Colab:  \n",
        "https://medium.com/deep-learning-turkey/google-colab-free-gpu-tutorial-e113627b9f5d  \n",
        "(Keras инсталлировать не нужно, наш notebook сам установит PyTorch)\n"
      ]
    },
    {
      "cell_type": "code",
      "metadata": {
        "colab_type": "code",
        "id": "FcXBeP1O7cnY",
        "outputId": "8290869e-e113-4305-8fcc-881a6198af2d",
        "colab": {
          "base_uri": "https://localhost:8080/",
          "height": 243
        }
      },
      "source": [
        "#!pip3 install torch torchvision\n",
        "\n",
        "!wget -c http://ufldl.stanford.edu/housenumbers/train_32x32.mat http://ufldl.stanford.edu/housenumbers/test_32x32.mat"
      ],
      "execution_count": 0,
      "outputs": [
        {
          "output_type": "stream",
          "text": [
            "--2019-12-23 14:30:44--  http://ufldl.stanford.edu/housenumbers/train_32x32.mat\n",
            "Resolving ufldl.stanford.edu (ufldl.stanford.edu)... 171.64.68.10\n",
            "Connecting to ufldl.stanford.edu (ufldl.stanford.edu)|171.64.68.10|:80... connected.\n",
            "HTTP request sent, awaiting response... 416 Requested Range Not Satisfiable\n",
            "\n",
            "    The file is already fully retrieved; nothing to do.\n",
            "\n",
            "--2019-12-23 14:30:45--  http://ufldl.stanford.edu/housenumbers/test_32x32.mat\n",
            "Reusing existing connection to ufldl.stanford.edu:80.\n",
            "HTTP request sent, awaiting response... 416 Requested Range Not Satisfiable\n",
            "\n",
            "    The file is already fully retrieved; nothing to do.\n",
            "\n"
          ],
          "name": "stdout"
        }
      ]
    },
    {
      "cell_type": "code",
      "metadata": {
        "colab_type": "code",
        "id": "-afwWw-Q85vD",
        "colab": {}
      },
      "source": [
        "from collections import namedtuple\n",
        "\n",
        "import matplotlib.pyplot as plt\n",
        "import numpy as np\n",
        "import PIL\n",
        "import torch\n",
        "import torch.nn as nn\n",
        "import torch.optim as optim\n",
        "import torchvision.datasets as dset\n",
        "from torch.utils.data.sampler import SubsetRandomSampler\n",
        "\n",
        "from torchvision import transforms"
      ],
      "execution_count": 0,
      "outputs": []
    },
    {
      "cell_type": "code",
      "metadata": {
        "colab_type": "code",
        "id": "NNU-OD9O9ltP",
        "colab": {}
      },
      "source": [
        "device = torch.device(\"cuda:0\") # Let's make sure GPU is available!"
      ],
      "execution_count": 0,
      "outputs": []
    },
    {
      "cell_type": "code",
      "metadata": {
        "id": "3LYcwjkRAYtD",
        "colab_type": "code",
        "outputId": "7030d580-8415-4c5f-efe1-d2460a2a361b",
        "colab": {
          "base_uri": "https://localhost:8080/",
          "height": 34
        }
      },
      "source": [
        "device"
      ],
      "execution_count": 0,
      "outputs": [
        {
          "output_type": "execute_result",
          "data": {
            "text/plain": [
              "device(type='cuda', index=0)"
            ]
          },
          "metadata": {
            "tags": []
          },
          "execution_count": 4
        }
      ]
    },
    {
      "cell_type": "markdown",
      "metadata": {
        "id": "11Vhto3m8rhW",
        "colab_type": "text"
      },
      "source": [
        "# Загружаем данные"
      ]
    },
    {
      "cell_type": "code",
      "metadata": {
        "colab_type": "code",
        "id": "YAvkoRx-9FsP",
        "colab": {}
      },
      "source": [
        "# First, lets load the dataset\n",
        "data_train = dset.SVHN('./', \n",
        "                       transform=transforms.Compose([\n",
        "                           transforms.ToTensor(),\n",
        "                           transforms.Normalize(mean=[0.43,0.44,0.47],\n",
        "                                               std=[0.20,0.20,0.20])                           \n",
        "                       ])\n",
        "                      )\n",
        "data_test = dset.SVHN('./', split='test', transform=transforms.Compose([\n",
        "                           transforms.ToTensor(),\n",
        "                           transforms.Normalize(mean=[0.43,0.44,0.47],\n",
        "                                               std=[0.20,0.20,0.20])                           \n",
        "                       ]))"
      ],
      "execution_count": 0,
      "outputs": []
    },
    {
      "cell_type": "markdown",
      "metadata": {
        "id": "Fa1GPq5m8rha",
        "colab_type": "text"
      },
      "source": [
        "Разделяем данные на training и validation.\n",
        "\n",
        "На всякий случай для подробностей - https://pytorch.org/tutorials/beginner/data_loading_tutorial.html"
      ]
    },
    {
      "cell_type": "code",
      "metadata": {
        "colab_type": "code",
        "id": "YRnr8CPg7Hli",
        "colab": {}
      },
      "source": [
        "batch_size = 64\n",
        "\n",
        "data_size = data_train.data.shape[0]\n",
        "validation_split = .2\n",
        "split = int(np.floor(validation_split * data_size))\n",
        "indices = list(range(data_size))\n",
        "np.random.shuffle(indices)\n",
        "\n",
        "train_indices, val_indices = indices[split:], indices[:split]\n",
        "\n",
        "train_sampler = SubsetRandomSampler(train_indices)\n",
        "val_sampler = SubsetRandomSampler(val_indices)\n",
        "\n",
        "train_loader = torch.utils.data.DataLoader(data_train, batch_size=batch_size, \n",
        "                                           sampler=train_sampler)\n",
        "val_loader = torch.utils.data.DataLoader(data_train, batch_size=batch_size,\n",
        "                                         sampler=val_sampler)"
      ],
      "execution_count": 0,
      "outputs": []
    },
    {
      "cell_type": "code",
      "metadata": {
        "colab_type": "code",
        "id": "LyYvt-T67PBG",
        "colab": {}
      },
      "source": [
        "# We'll use a special helper module to shape it into a flat tensor\n",
        "class Flattener(nn.Module):\n",
        "    def forward(self, x):\n",
        "        batch_size, *_ = x.shape\n",
        "        return x.view(batch_size, -1)"
      ],
      "execution_count": 0,
      "outputs": []
    },
    {
      "cell_type": "markdown",
      "metadata": {
        "id": "MlEjXaig8rhh",
        "colab_type": "text"
      },
      "source": [
        "Создадим простейшую сеть с новыми слоями:  \n",
        "Convolutional - `nn.Conv2d`  \n",
        "MaxPool - `nn.MaxPool2d`"
      ]
    },
    {
      "cell_type": "code",
      "metadata": {
        "colab_type": "code",
        "id": "w9SFVGZP7SQd",
        "colab": {}
      },
      "source": [
        "nn_model = nn.Sequential(\n",
        "            nn.Conv2d(3, 64, 3, padding=1),\n",
        "            nn.ReLU(inplace=True),\n",
        "            nn.MaxPool2d(4),\n",
        "            nn.Conv2d(64, 64, 3, padding=1),\n",
        "            nn.ReLU(inplace=True),\n",
        "            nn.MaxPool2d(4),    \n",
        "            Flattener(),\n",
        "            nn.Linear(64*2*2, 10),\n",
        "          )\n",
        "\n",
        "nn_model.type(torch.cuda.FloatTensor)\n",
        "nn_model.to(device)\n",
        "\n",
        "loss = nn.CrossEntropyLoss().type(torch.cuda.FloatTensor)\n",
        "optimizer = optim.SGD(nn_model.parameters(), lr=1e-1, weight_decay=1e-4)"
      ],
      "execution_count": 0,
      "outputs": []
    },
    {
      "cell_type": "markdown",
      "metadata": {
        "id": "JM_Id-xY8rhl",
        "colab_type": "text"
      },
      "source": [
        "Восстановите функцию `compute_accuracy` из прошлого задания.  \n",
        "Единственное отличие в новом - она должна передать данные на GPU прежде чем прогонять через модель. Сделайте это так же, как это делает функция `train_model`"
      ]
    },
    {
      "cell_type": "code",
      "metadata": {
        "colab_type": "code",
        "id": "2ek3KVQK7hJ6",
        "colab": {}
      },
      "source": [
        "def train_model(model, train_loader, val_loader, loss, optimizer, num_epochs, scheduler=None):    \n",
        "    loss_history = []\n",
        "    train_history = []\n",
        "    val_history = []\n",
        "    for epoch in range(num_epochs):\n",
        "        model.train() # Enter train mode\n",
        "        \n",
        "        loss_accum = 0\n",
        "        correct_samples = 0\n",
        "        total_samples = 0\n",
        "        for i_step, (x, y) in enumerate(train_loader):\n",
        "          \n",
        "            x_gpu = x.to(device)\n",
        "            y_gpu = y.to(device)\n",
        "            prediction = model(x_gpu)    \n",
        "            loss_value = loss(prediction, y_gpu)\n",
        "            optimizer.zero_grad()\n",
        "            loss_value.backward()\n",
        "            optimizer.step()\n",
        "            \n",
        "            _, indices = torch.max(prediction, 1)\n",
        "            correct_samples += torch.sum(indices == y_gpu)\n",
        "            total_samples += y.shape[0]\n",
        "            \n",
        "            loss_accum += loss_value\n",
        "\n",
        "        ave_loss = loss_accum / i_step\n",
        "        train_accuracy = float(correct_samples) / total_samples\n",
        "        val_accuracy = compute_accuracy(model, val_loader)\n",
        "        \n",
        "        loss_history.append(float(ave_loss))\n",
        "        train_history.append(train_accuracy)\n",
        "        val_history.append(val_accuracy)\n",
        "\n",
        "        if scheduler is not None:\n",
        "          scheduler.step()\n",
        "\n",
        "        print(\"Average loss: %f, Train accuracy: %f, Val accuracy: %f\" % (ave_loss, train_accuracy, val_accuracy))\n",
        "        \n",
        "    return loss_history, train_history, val_history\n",
        "\n",
        "def multiclass_accuracy(prediction, ground_truth):\n",
        "    return np.mean([p == gt for p, gt in zip(prediction, ground_truth)])\n",
        "        \n",
        "def compute_accuracy(model, loader):\n",
        "    \"\"\"\n",
        "    Computes accuracy on the dataset wrapped in a loader\n",
        "    \n",
        "    Returns: accuracy as a float value between 0 and 1\n",
        "    \"\"\"\n",
        "    model.eval() # Evaluation mode\n",
        "    # TODO: Copy implementation from previous assignment\n",
        "    # Don't forget to move the data to device before running it through the model!\n",
        "    val_accuracy = 0\n",
        "    correct = 0\n",
        "    total = 0\n",
        "        \n",
        "    for i_step, (x, y) in enumerate(loader):\n",
        "      x_gpu = x.to(device)\n",
        "      y_gpu = y.to(device)\n",
        "\n",
        "      pred = model(x_gpu)\n",
        "      _, indices = torch.max(pred, 1)\n",
        "      correct += torch.sum(indices == y_gpu)\n",
        "      total += y_gpu.shape[0]\n",
        "\n",
        "      val_accuracy = float(correct)/total\n",
        "    \n",
        "    return val_accuracy"
      ],
      "execution_count": 0,
      "outputs": []
    },
    {
      "cell_type": "code",
      "metadata": {
        "id": "yX_8Tc1wB801",
        "colab_type": "code",
        "outputId": "a4bc5d59-d700-4c35-9baf-a66676484f35",
        "colab": {
          "base_uri": "https://localhost:8080/",
          "height": 104
        }
      },
      "source": [
        "loss_history, train_history, val_history = \\\n",
        "  train_model(nn_model, train_loader, val_loader, loss, optimizer, 5)"
      ],
      "execution_count": 0,
      "outputs": [
        {
          "output_type": "stream",
          "text": [
            "Average loss: 1.405232, Train accuracy: 0.530475, Val accuracy: 0.746911\n",
            "Average loss: 0.700626, Train accuracy: 0.787650, Val accuracy: 0.797761\n",
            "Average loss: 0.598498, Train accuracy: 0.821145, Val accuracy: 0.797898\n",
            "Average loss: 0.552700, Train accuracy: 0.837150, Val accuracy: 0.827179\n",
            "Average loss: 0.520064, Train accuracy: 0.847234, Val accuracy: 0.797898\n"
          ],
          "name": "stdout"
        }
      ]
    },
    {
      "cell_type": "markdown",
      "metadata": {
        "colab_type": "text",
        "id": "6a-3a1ZFGEw_"
      },
      "source": [
        "# Аугментация данных (Data augmentation)\n",
        "\n",
        "В работе с изображениями одним из особенно важных методов является аугментация данных - то есть, генерация дополнительных данных для тренировки на основе изначальных.   \n",
        "Таким образом, мы получаем возможность \"увеличить\" набор данных для тренировки, что ведет к лучшей работе сети.\n",
        "Важно, чтобы аугментированные данные были похожи на те, которые могут встретиться в реальной жизни, иначе польза от аугментаций уменьшается и может ухудшить работу сети.\n",
        "\n",
        "С PyTorch идут несколько таких алгоритмов, называемых `transforms`. Более подробно про них можно прочитать тут -\n",
        "https://pytorch.org/tutorials/beginner/data_loading_tutorial.html#transforms\n",
        "\n",
        "Ниже мы используем следующие алгоритмы генерации:\n",
        "- ColorJitter - случайное изменение цвета\n",
        "- RandomHorizontalFlip - горизонтальное отражение с вероятностью 50%\n",
        "- RandomVerticalFlip - вертикальное отражение с вероятностью 50%\n",
        "- RandomRotation - случайный поворот"
      ]
    },
    {
      "cell_type": "code",
      "metadata": {
        "colab_type": "code",
        "id": "I_-7gS-XLXI7",
        "colab": {}
      },
      "source": [
        "tfs = transforms.Compose([\n",
        "    transforms.ColorJitter(hue=.50, saturation=.50),\n",
        "    transforms.RandomHorizontalFlip(),\n",
        "    transforms.RandomVerticalFlip(),\n",
        "    transforms.RandomRotation(50, resample=PIL.Image.BILINEAR),\n",
        "    transforms.ToTensor(),\n",
        "    transforms.Normalize(mean=[0.43,0.44,0.47],\n",
        "                       std=[0.20,0.20,0.20])                           \n",
        "])\n",
        "\n",
        "# Create augmented train dataset\n",
        "data_aug_train = dset.SVHN('./', \n",
        "                       transform=tfs\n",
        "                      )\n",
        "\n",
        "train_aug_loader = torch.utils.data.DataLoader(data_aug_train, batch_size=batch_size, \n",
        "                                           sampler=train_sampler)"
      ],
      "execution_count": 0,
      "outputs": []
    },
    {
      "cell_type": "markdown",
      "metadata": {
        "id": "PO24Royl8rht",
        "colab_type": "text"
      },
      "source": [
        "Визуализируем результаты агментации (вообще, смотреть на сгенерированные данные всегда очень полезно)."
      ]
    },
    {
      "cell_type": "code",
      "metadata": {
        "colab_type": "code",
        "id": "YlJJEro1KZ45",
        "outputId": "28fddd28-bf3e-4ba9-f134-bcdef84db83c",
        "colab": {
          "base_uri": "https://localhost:8080/",
          "height": 193
        }
      },
      "source": [
        "tfs = transforms.Compose([\n",
        "    transforms.ColorJitter(hue=.20, saturation=.20),\n",
        "    transforms.RandomHorizontalFlip(),\n",
        "    transforms.RandomVerticalFlip(),\n",
        "    transforms.RandomRotation(10, resample=PIL.Image.BILINEAR),\n",
        "])\n",
        "\n",
        "data_aug_vis = dset.SVHN('./', \n",
        "                       transform=tfs\n",
        "                      )\n",
        "\n",
        "plt.figure(figsize=(30, 3))\n",
        "\n",
        "for i, (x, y) in enumerate(data_aug_vis):\n",
        "    if i == 10:\n",
        "        break\n",
        "    plt.subplot(1, 10, i+1)\n",
        "    plt.grid(False)\n",
        "    plt.imshow(x)\n",
        "    plt.axis('off')"
      ],
      "execution_count": 0,
      "outputs": [
        {
          "output_type": "display_data",
          "data": {
            "image/png": "[encoded data removed]",
            "text/plain": [
              "<Figure size 2160x216 with 10 Axes>"
            ]
          },
          "metadata": {
            "tags": []
          }
        }
      ]
    },
    {
      "cell_type": "markdown",
      "metadata": {
        "colab_type": "text",
        "id": "o2LrmsYHoguB"
      },
      "source": [
        "Все ли агментации одинаково полезны на этом наборе данных? Могут ли быть среди них те, которые собьют модель с толку?\n",
        "\n",
        "Выберите из них только корректные"
      ]
    },
    {
      "cell_type": "code",
      "metadata": {
        "colab_type": "code",
        "id": "evro9ksXGs9u",
        "outputId": "fbef4ff4-a6d8-4001-9b50-32dadb8fdf50",
        "colab": {
          "base_uri": "https://localhost:8080/",
          "height": 323
        }
      },
      "source": [
        "tfs = transforms.Compose([\n",
        "    transforms.ColorJitter(hue=.20, saturation=.20),\n",
        "    transforms.RandomHorizontalFlip(),\n",
        "    transforms.RandomVerticalFlip(),\n",
        "    transforms.RandomRotation(10, resample=PIL.Image.BILINEAR)\n",
        "])\n",
        "\n",
        "# TODO create new instances of loaders with the augmentations you chose\n",
        "data_aug_vis = dset.SVHN('./', \n",
        "                       transform=tfs\n",
        "                      )\n",
        "\n",
        "plt.figure(figsize=(30, 5))\n",
        "\n",
        "for i, (x, y) in enumerate(data_aug_vis):\n",
        "    if i == 5:\n",
        "        break\n",
        "    plt.subplot(1, 5, i+1)\n",
        "    plt.grid(False)\n",
        "    plt.imshow(x)\n",
        "    plt.axis('off')"
      ],
      "execution_count": 0,
      "outputs": [
        {
          "output_type": "display_data",
          "data": {
            "image/png": "[encoded data removed]",
            "text/plain": [
              "<Figure size 2160x360 with 5 Axes>"
            ]
          },
          "metadata": {
            "tags": []
          }
        }
      ]
    },
    {
      "cell_type": "code",
      "metadata": {
        "colab_type": "code",
        "id": "8t8gC32jLVw3",
        "colab": {}
      },
      "source": [
        "tfs = transforms.Compose([\n",
        "    transforms.ColorJitter(hue=.20, saturation=.20),\n",
        "    transforms.RandomHorizontalFlip(),\n",
        "    transforms.RandomVerticalFlip(),\n",
        "    transforms.RandomRotation(10, resample=PIL.Image.BILINEAR),\n",
        "    transforms.ToTensor(),\n",
        "    transforms.Normalize(mean=[0.43,0.44,0.47],\n",
        "                       std=[0.20,0.20,0.20])    \n",
        "])\n",
        "\n",
        "# TODO create new instances of loaders with the augmentations you chose\n",
        "data_aug_vis = dset.SVHN('./', \n",
        "                       transform=tfs\n",
        "                      )\n",
        "\n",
        "train_aug_loader = torch.utils.data.DataLoader(data_aug_vis, batch_size=batch_size, sampler=train_sampler)"
      ],
      "execution_count": 0,
      "outputs": []
    },
    {
      "cell_type": "code",
      "metadata": {
        "colab_type": "code",
        "id": "PeO6Zw0DHqPR",
        "outputId": "e9fcb2ac-803e-423d-df01-6241034fc6a8",
        "colab": {
          "base_uri": "https://localhost:8080/",
          "height": 104
        }
      },
      "source": [
        "loss_history, train_history, val_history = \\\n",
        "  train_model(nn_model, train_aug_loader, val_loader, loss, optimizer, 5)"
      ],
      "execution_count": 0,
      "outputs": [
        {
          "output_type": "stream",
          "text": [
            "Average loss: 1.536486, Train accuracy: 0.466761, Val accuracy: 0.548631\n",
            "Average loss: 1.295947, Train accuracy: 0.552077, Val accuracy: 0.555047\n",
            "Average loss: 1.222218, Train accuracy: 0.576920, Val accuracy: 0.601392\n",
            "Average loss: 1.169515, Train accuracy: 0.598045, Val accuracy: 0.615862\n",
            "Average loss: 1.133949, Train accuracy: 0.610620, Val accuracy: 0.651833\n"
          ],
          "name": "stdout"
        }
      ]
    },
    {
      "cell_type": "markdown",
      "metadata": {
        "colab_type": "text",
        "id": "r0bcioK6JBDK"
      },
      "source": [
        "# LeNet\n",
        "Попробуем имплементировать классическую архитектуру сверточной нейронной сети, предложенную Яном ЛеКуном в 1998 году. В свое время она достигла впечатляющих результатов на MNIST, посмотрим как она справится с SVHN?\n",
        "Она описана в статье [\"Gradient Based Learning Applied to Document Recognition\"](http://yann.lecun.com/exdb/publis/pdf/lecun-01a.pdf), попробуйте прочитать ключевые части и имплементировать предложенную архитетуру на PyTorch.\n",
        "\n",
        "Реализовывать слои и функцию ошибки LeNet, которых нет в PyTorch, **не нужно** - просто возьмите их размеры и переведите в уже известные нам Convolutional, Pooling и Fully Connected layers.\n",
        "\n",
        "Если в статье не очень понятно, можно просто погуглить LeNet и разобраться в деталях :)"
      ]
    },
    {
      "cell_type": "markdown",
      "metadata": {
        "id": "rbCeHckwKwpP",
        "colab_type": "text"
      },
      "source": [
        "![alt text](https://engmrk.com/wp-content/uploads/2018/09/LeNEt_Summary_Table.jpg)"
      ]
    },
    {
      "cell_type": "code",
      "metadata": {
        "id": "e8LrrkwrKiAX",
        "colab_type": "code",
        "outputId": "9e3f4153-62ca-47ca-ef69-baf080bca96f",
        "colab": {
          "base_uri": "https://localhost:8080/",
          "height": 35
        }
      },
      "source": [
        "nn.Conv2d(3, 64, 3, padding=1),\n",
        "nn.ReLU(inplace=True),\n",
        "nn.MaxPool2d(4),\n",
        "nn.Conv2d(64, 64, 3, padding=1),\n",
        "nn.ReLU(inplace=True),\n",
        "nn.MaxPool2d(4),    \n",
        "Flattener(),\n",
        "nn.Linear(64*2*2, 120)"
      ],
      "execution_count": 0,
      "outputs": [
        {
          "output_type": "execute_result",
          "data": {
            "text/plain": [
              "Linear(in_features=256, out_features=120, bias=True)"
            ]
          },
          "metadata": {
            "tags": []
          },
          "execution_count": 24
        }
      ]
    },
    {
      "cell_type": "code",
      "metadata": {
        "colab_type": "code",
        "id": "ieEzZUglJAUB",
        "colab": {}
      },
      "source": [
        "lenet_model = nn.Sequential(\n",
        "    nn.Conv2d(3, 64, 3, padding=1),\n",
        "    nn.ReLU(inplace=True),\n",
        "    nn.MaxPool2d(4),\n",
        "    nn.Conv2d(64, 64, 3, padding=1),\n",
        "    nn.ReLU(inplace=True),\n",
        "    nn.MaxPool2d(4),    \n",
        "    Flattener(),\n",
        "    nn.Linear(64*2*2, 120),\n",
        "    nn.Linear(120, 84),\n",
        "    nn.Linear(84, 10),\n",
        "          )\n",
        "\n",
        "lenet_model.type(torch.cuda.FloatTensor)\n",
        "lenet_model.to(device)\n",
        "\n",
        "loss = nn.CrossEntropyLoss().type(torch.cuda.FloatTensor)\n",
        "optimizer = optim.SGD(lenet_model.parameters(), lr=1e-1, weight_decay=1e-4)"
      ],
      "execution_count": 0,
      "outputs": []
    },
    {
      "cell_type": "code",
      "metadata": {
        "colab_type": "code",
        "id": "WMmaPfdeKk9H",
        "outputId": "43a94ed4-b483-458b-8c86-a3528f2c4044",
        "colab": {
          "base_uri": "https://localhost:8080/",
          "height": 104
        }
      },
      "source": [
        "# Let's train it!\n",
        "loss_history, train_history, val_history = \\\n",
        "  train_model(lenet_model, train_aug_loader, val_loader, loss, optimizer, 5)"
      ],
      "execution_count": 0,
      "outputs": [
        {
          "output_type": "stream",
          "text": [
            "Average loss: 2.130941, Train accuracy: 0.234942, Val accuracy: 0.318750\n",
            "Average loss: 1.650454, Train accuracy: 0.401563, Val accuracy: 0.448024\n",
            "Average loss: 1.402663, Train accuracy: 0.499369, Val accuracy: 0.489318\n",
            "Average loss: 1.289492, Train accuracy: 0.544364, Val accuracy: 0.549314\n",
            "Average loss: 1.221133, Train accuracy: 0.572842, Val accuracy: 0.577230\n"
          ],
          "name": "stdout"
        }
      ]
    },
    {
      "cell_type": "markdown",
      "metadata": {
        "colab_type": "text",
        "id": "u_O9qiYySvuj"
      },
      "source": [
        "# Подбор гиперпараметров"
      ]
    },
    {
      "cell_type": "code",
      "metadata": {
        "colab_type": "code",
        "id": "i6mhfdQ9K-N3",
        "outputId": "31aa61d5-57cf-4406-f528-dc0d1f885df5",
        "colab": {
          "base_uri": "https://localhost:8080/",
          "height": 1000
        }
      },
      "source": [
        "# The key hyperparameters we're going to tune are learning speed, annealing rate and regularization\n",
        "# We also encourage you to try different optimizers as well\n",
        "\n",
        "Hyperparams = namedtuple(\"Hyperparams\", ['learning_rate', 'anneal_epochs', 'reg'])\n",
        "RunResult = namedtuple(\"RunResult\", ['model', 'train_history', 'val_history', 'final_val_accuracy'])\n",
        "\n",
        "learning_rates = [1e0, 1e-1, 1e-2, 1e-3, 1e-4]\n",
        "anneal_coeff = 0.2\n",
        "anneal_epochs = [1, 5] #, 10, 15, 20, 50]\n",
        "reg = [1e-3, 1e-4, 1e-5, 1e-7]\n",
        "\n",
        "epoch_num = 5 #10\n",
        "\n",
        "# Record all the runs here\n",
        "# Key should be Hyperparams and values should be RunResult\n",
        "run_record = {} \n",
        "\n",
        "for lr in learning_rates:\n",
        "  for ae in anneal_epochs:\n",
        "    for r in reg:\n",
        "      print(f'Parameters are lr={lr}, anneal_epochs={ae}, reg={r}')\n",
        "      params = Hyperparams(lr, ae, r)\n",
        "\n",
        "      new_lenet_model = nn.Sequential(\n",
        "          nn.Conv2d(3, 64, 3, padding=1),\n",
        "          nn.ReLU(inplace=True),\n",
        "          nn.MaxPool2d(4),\n",
        "          nn.Conv2d(64, 64, 3, padding=1),\n",
        "          nn.ReLU(inplace=True),\n",
        "          nn.MaxPool2d(4),    \n",
        "          Flattener(),\n",
        "          nn.Linear(64*2*2, 120),\n",
        "          nn.Linear(120, 84),\n",
        "          nn.Linear(84, 10),\n",
        "      )\n",
        "\n",
        "      new_lenet_model.type(torch.cuda.FloatTensor)\n",
        "      new_lenet_model.to(device)\n",
        "      loss = nn.CrossEntropyLoss().type(torch.cuda.FloatTensor)\n",
        "  \n",
        "      optimizer = optim.Adam(new_lenet_model.parameters(), lr=lr, weight_decay=r)\n",
        "      step_lr = torch.optim.lr_scheduler.StepLR(optimizer, step_size=ae, gamma=anneal_coeff)\n",
        "\n",
        "      loss_history, train_history, val_history = \\\n",
        "        train_model(new_lenet_model, train_aug_loader, val_loader, loss, optimizer, epoch_num, scheduler=step_lr)\n",
        "\n",
        "      results = RunResult(new_lenet_model, train_history, val_history, val_history[-1])\n",
        "      run_record[params] = results"
      ],
      "execution_count": 0,
      "outputs": [
        {
          "output_type": "stream",
          "text": [
            "Parameters are lr=1.0, anneal_epochs=1, reg=0.001\n",
            "Average loss: 2971461.000000, Train accuracy: 0.112753, Val accuracy: 0.191591\n",
            "Average loss: 3545.909424, Train accuracy: 0.116968, Val accuracy: 0.115009\n",
            "Average loss: 907.936462, Train accuracy: 0.118606, Val accuracy: 0.191591\n",
            "Average loss: 279.754913, Train accuracy: 0.120687, Val accuracy: 0.145519\n",
            "Average loss: 126.580078, Train accuracy: 0.117394, Val accuracy: 0.068937\n",
            "Parameters are lr=1.0, anneal_epochs=1, reg=0.0001\n",
            "Average loss: 606352.937500, Train accuracy: 0.110432, Val accuracy: 0.080609\n",
            "Average loss: 2198.488037, Train accuracy: 0.115858, Val accuracy: 0.191591\n",
            "Average loss: 675.851257, Train accuracy: 0.116046, Val accuracy: 0.090779\n",
            "Average loss: 351.111938, Train accuracy: 0.116541, Val accuracy: 0.099379\n",
            "Average loss: 277.322540, Train accuracy: 0.117633, Val accuracy: 0.080609\n",
            "Parameters are lr=1.0, anneal_epochs=1, reg=1e-05\n",
            "Average loss: 1859188.750000, Train accuracy: 0.125994, Val accuracy: 0.191591\n",
            "Average loss: 55788.199219, Train accuracy: 0.113162, Val accuracy: 0.191591\n",
            "Average loss: 4023.258789, Train accuracy: 0.095860, Val accuracy: 0.090779\n",
            "Average loss: 2221.499023, Train accuracy: 0.092755, Val accuracy: 0.115009\n",
            "Average loss: 1771.856812, Train accuracy: 0.094222, Val accuracy: 0.115009\n",
            "Parameters are lr=1.0, anneal_epochs=1, reg=1e-07\n",
            "Average loss: 558153.750000, Train accuracy: 0.110125, Val accuracy: 0.077879\n",
            "Average loss: 8108.753418, Train accuracy: 0.120824, Val accuracy: 0.099379\n",
            "Average loss: 6220.397949, Train accuracy: 0.112241, Val accuracy: 0.077879\n",
            "Average loss: 1045.515503, Train accuracy: 0.100519, Val accuracy: 0.068937\n",
            "Average loss: 793.456421, Train accuracy: 0.104392, Val accuracy: 0.067504\n",
            "Parameters are lr=1.0, anneal_epochs=5, reg=0.001\n",
            "Average loss: 1700298.375000, Train accuracy: 0.136334, Val accuracy: 0.191591\n",
            "Average loss: 8979.805664, Train accuracy: 0.128826, Val accuracy: 0.191591\n",
            "Average loss: 13128979.000000, Train accuracy: 0.111866, Val accuracy: 0.099379\n",
            "Average loss: 668810.937500, Train accuracy: 0.106644, Val accuracy: 0.090779\n",
            "Average loss: 491919.968750, Train accuracy: 0.104256, Val accuracy: 0.068937\n",
            "Parameters are lr=1.0, anneal_epochs=5, reg=0.0001\n",
            "Average loss: 802604.250000, Train accuracy: 0.105638, Val accuracy: 0.068937\n",
            "Average loss: 4805.804199, Train accuracy: 0.116114, Val accuracy: 0.099379\n",
            "Average loss: 3148.183838, Train accuracy: 0.114459, Val accuracy: 0.090779\n",
            "Average loss: 1823.423706, Train accuracy: 0.113589, Val accuracy: 0.115009\n",
            "Average loss: 1440.116577, Train accuracy: 0.114272, Val accuracy: 0.145519\n",
            "Parameters are lr=1.0, anneal_epochs=5, reg=1e-05\n",
            "Average loss: 21001296.000000, Train accuracy: 0.112190, Val accuracy: 0.145519\n",
            "Average loss: 154046.812500, Train accuracy: 0.114562, Val accuracy: 0.115009\n",
            "Average loss: 121037.500000, Train accuracy: 0.115722, Val accuracy: 0.099379\n",
            "Average loss: 102354.828125, Train accuracy: 0.117121, Val accuracy: 0.068937\n",
            "Average loss: 111426.601562, Train accuracy: 0.114579, Val accuracy: 0.090779\n",
            "Parameters are lr=1.0, anneal_epochs=5, reg=1e-07\n",
            "Average loss: 262733.906250, Train accuracy: 0.101218, Val accuracy: 0.090779\n",
            "Average loss: 13301.765625, Train accuracy: 0.116695, Val accuracy: 0.077879\n",
            "Average loss: 11229.867188, Train accuracy: 0.114033, Val accuracy: 0.099379\n",
            "Average loss: 5988.750000, Train accuracy: 0.115927, Val accuracy: 0.191591\n",
            "Average loss: 3433.102295, Train accuracy: 0.115056, Val accuracy: 0.067504\n",
            "Parameters are lr=0.1, anneal_epochs=1, reg=0.001\n",
            "Average loss: 24.869059, Train accuracy: 0.141794, Val accuracy: 0.191591\n",
            "Average loss: 2.258246, Train accuracy: 0.180135, Val accuracy: 0.191591\n",
            "Average loss: 2.245479, Train accuracy: 0.186005, Val accuracy: 0.191591\n",
            "Average loss: 2.241411, Train accuracy: 0.188616, Val accuracy: 0.191591\n",
            "Average loss: 2.239722, Train accuracy: 0.188616, Val accuracy: 0.191591\n",
            "Parameters are lr=0.1, anneal_epochs=1, reg=0.0001\n",
            "Average loss: 5981.710449, Train accuracy: 0.115585, Val accuracy: 0.068937\n",
            "Average loss: 30.696737, Train accuracy: 0.115654, Val accuracy: 0.067504\n",
            "Average loss: 7.186845, Train accuracy: 0.116217, Val accuracy: 0.067504\n",
            "Average loss: 2.657441, Train accuracy: 0.172542, Val accuracy: 0.191591\n",
            "Average loss: 2.361726, Train accuracy: 0.187609, Val accuracy: 0.191591\n",
            "Parameters are lr=0.1, anneal_epochs=1, reg=1e-05\n",
            "Average loss: 6.420296, Train accuracy: 0.160154, Val accuracy: 0.191591\n",
            "Average loss: 2.249358, Train accuracy: 0.184281, Val accuracy: 0.191591\n",
            "Average loss: 2.241360, Train accuracy: 0.188616, Val accuracy: 0.191591\n",
            "Average loss: 2.240316, Train accuracy: 0.188616, Val accuracy: 0.191591\n",
            "Average loss: 2.239393, Train accuracy: 0.188616, Val accuracy: 0.191591\n",
            "Parameters are lr=0.1, anneal_epochs=1, reg=1e-07\n",
            "Average loss: 6.011037, Train accuracy: 0.154575, Val accuracy: 0.191659\n",
            "Average loss: 2.289780, Train accuracy: 0.171041, Val accuracy: 0.191591\n",
            "Average loss: 2.246373, Train accuracy: 0.186517, Val accuracy: 0.191591\n",
            "Average loss: 2.241560, Train accuracy: 0.188616, Val accuracy: 0.191591\n",
            "Average loss: 2.239777, Train accuracy: 0.188616, Val accuracy: 0.191591\n",
            "Parameters are lr=0.1, anneal_epochs=5, reg=0.001\n",
            "Average loss: 18.642365, Train accuracy: 0.150599, Val accuracy: 0.145519\n",
            "Average loss: 38561.972656, Train accuracy: 0.123196, Val accuracy: 0.145519\n",
            "Average loss: 10202.024414, Train accuracy: 0.115039, Val accuracy: 0.090779\n",
            "Average loss: 134293.000000, Train accuracy: 0.113009, Val accuracy: 0.115009\n",
            "Average loss: 152710.875000, Train accuracy: 0.112463, Val accuracy: 0.062794\n",
            "Parameters are lr=0.1, anneal_epochs=5, reg=0.0001\n",
            "Average loss: 78.985901, Train accuracy: 0.121182, Val accuracy: 0.145519\n",
            "Average loss: 2.655863, Train accuracy: 0.148415, Val accuracy: 0.099379\n",
            "Average loss: 2.356536, Train accuracy: 0.160171, Val accuracy: 0.145519\n",
            "Average loss: 159.753571, Train accuracy: 0.128707, Val accuracy: 0.115009\n",
            "Average loss: 5.481560, Train accuracy: 0.136385, Val accuracy: 0.090779\n",
            "Parameters are lr=0.1, anneal_epochs=5, reg=1e-05\n",
            "Average loss: 16.577637, Train accuracy: 0.138894, Val accuracy: 0.099379\n",
            "Average loss: 5.801804, Train accuracy: 0.153619, Val accuracy: 0.191591\n",
            "Average loss: 4.947041, Train accuracy: 0.154233, Val accuracy: 0.145519\n",
            "Average loss: 1955689.375000, Train accuracy: 0.120295, Val accuracy: 0.077879\n",
            "Average loss: 25370.615234, Train accuracy: 0.118930, Val accuracy: 0.145519\n",
            "Parameters are lr=0.1, anneal_epochs=5, reg=1e-07\n",
            "Average loss: 8.276346, Train accuracy: 0.149626, Val accuracy: 0.191591\n",
            "Average loss: 2.298062, Train accuracy: 0.162031, Val accuracy: 0.191591\n",
            "Average loss: 2.310753, Train accuracy: 0.161110, Val accuracy: 0.115009\n",
            "Average loss: 4.779192, Train accuracy: 0.155598, Val accuracy: 0.191591\n",
            "Average loss: 2.341234, Train accuracy: 0.168413, Val accuracy: 0.191591\n",
            "Parameters are lr=0.01, anneal_epochs=1, reg=0.001\n",
            "Average loss: 2.247945, Train accuracy: 0.186824, Val accuracy: 0.191591\n",
            "Average loss: 2.239505, Train accuracy: 0.188616, Val accuracy: 0.191591\n",
            "Average loss: 2.239306, Train accuracy: 0.188616, Val accuracy: 0.191591\n",
            "Average loss: 2.239150, Train accuracy: 0.188616, Val accuracy: 0.191591\n",
            "Average loss: 2.239149, Train accuracy: 0.188616, Val accuracy: 0.191591\n",
            "Parameters are lr=0.01, anneal_epochs=1, reg=0.0001\n",
            "Average loss: 2.251163, Train accuracy: 0.186619, Val accuracy: 0.191591\n",
            "Average loss: 2.239777, Train accuracy: 0.188616, Val accuracy: 0.191591\n",
            "Average loss: 2.239325, Train accuracy: 0.188616, Val accuracy: 0.191591\n",
            "Average loss: 2.239163, Train accuracy: 0.188616, Val accuracy: 0.191591\n",
            "Average loss: 2.239125, Train accuracy: 0.188616, Val accuracy: 0.191591\n",
            "Parameters are lr=0.01, anneal_epochs=1, reg=1e-05\n",
            "Average loss: 2.251245, Train accuracy: 0.186500, Val accuracy: 0.191591\n",
            "Average loss: 2.239953, Train accuracy: 0.188616, Val accuracy: 0.191591\n",
            "Average loss: 2.239264, Train accuracy: 0.188616, Val accuracy: 0.191591\n",
            "Average loss: 2.239208, Train accuracy: 0.188616, Val accuracy: 0.191591\n",
            "Average loss: 2.239149, Train accuracy: 0.188616, Val accuracy: 0.191591\n",
            "Parameters are lr=0.01, anneal_epochs=1, reg=1e-07\n",
            "Average loss: 2.246891, Train accuracy: 0.187233, Val accuracy: 0.191591\n",
            "Average loss: 2.239772, Train accuracy: 0.188616, Val accuracy: 0.191591\n",
            "Average loss: 2.239341, Train accuracy: 0.188616, Val accuracy: 0.191591\n",
            "Average loss: 2.239179, Train accuracy: 0.188616, Val accuracy: 0.191591\n",
            "Average loss: 2.239148, Train accuracy: 0.188616, Val accuracy: 0.191591\n",
            "Parameters are lr=0.01, anneal_epochs=5, reg=0.001\n",
            "Average loss: 2.246440, Train accuracy: 0.187353, Val accuracy: 0.191591\n",
            "Average loss: 2.240492, Train accuracy: 0.188616, Val accuracy: 0.191591\n",
            "Average loss: 2.240578, Train accuracy: 0.188616, Val accuracy: 0.191591\n",
            "Average loss: 2.241259, Train accuracy: 0.188616, Val accuracy: 0.191591\n",
            "Average loss: 2.241934, Train accuracy: 0.188325, Val accuracy: 0.191591\n",
            "Parameters are lr=0.01, anneal_epochs=5, reg=0.0001\n",
            "Average loss: 2.253411, Train accuracy: 0.188172, Val accuracy: 0.191591\n",
            "Average loss: 2.241310, Train accuracy: 0.188377, Val accuracy: 0.191591\n",
            "Average loss: 2.290202, Train accuracy: 0.187421, Val accuracy: 0.145519\n",
            "Average loss: 5.220702, Train accuracy: 0.163584, Val accuracy: 0.191591\n",
            "Average loss: 2.418368, Train accuracy: 0.172081, Val accuracy: 0.191591\n",
            "Parameters are lr=0.01, anneal_epochs=5, reg=1e-05\n",
            "Average loss: 2.245901, Train accuracy: 0.187677, Val accuracy: 0.191591\n",
            "Average loss: 2.241273, Train accuracy: 0.188496, Val accuracy: 0.191591\n",
            "Average loss: 2.241281, Train accuracy: 0.188616, Val accuracy: 0.191591\n",
            "Average loss: 2.243233, Train accuracy: 0.187899, Val accuracy: 0.191591\n",
            "Average loss: 2.241800, Train accuracy: 0.188445, Val accuracy: 0.191591\n",
            "Parameters are lr=0.01, anneal_epochs=5, reg=1e-07\n",
            "Average loss: 2.250036, Train accuracy: 0.187472, Val accuracy: 0.191591\n",
            "Average loss: 2.241639, Train accuracy: 0.188155, Val accuracy: 0.191591\n"
          ],
          "name": "stdout"
        }
      ]
    },
    {
      "cell_type": "markdown",
      "metadata": {
        "id": "XL3ix5F3XXfR",
        "colab_type": "text"
      },
      "source": [
        "Зачем мы проверяем на 20-50 эпох, если прогоняем только до 10?)"
      ]
    },
    {
      "cell_type": "code",
      "metadata": {
        "colab_type": "code",
        "id": "Y6xExdw8JB1l",
        "colab": {}
      },
      "source": [
        "best_val_accuracy = None\n",
        "best_hyperparams = None\n",
        "best_run = None\n",
        "\n",
        "for hyperparams, run_result in run_record.items():\n",
        "    if best_val_accuracy is None or best_val_accuracy < run_result.final_val_accuracy:\n",
        "        best_val_accuracy = run_result.final_val_accuracy\n",
        "        best_hyperparams = hyperparams\n",
        "        best_run = run_result\n",
        "        \n",
        "print(\"Best validation accuracy: %4.2f, best hyperparams: %s\" % (best_val_accuracy, best_hyperparams))"
      ],
      "execution_count": 0,
      "outputs": []
    },
    {
      "cell_type": "markdown",
      "metadata": {
        "colab_type": "text",
        "id": "LOmsR0uVgtgf"
      },
      "source": [
        "# Свободное упражнение - догоним и перегоним LeNet!\n",
        "\n",
        "Попробуйте найти архитектуру и настройки тренировки, чтобы выступить лучше наших бейзлайнов.\n",
        "\n",
        "Что можно и нужно попробовать:\n",
        "- BatchNormalization (для convolution layers он в PyTorch называется [batchnorm2d](https://pytorch.org/docs/stable/nn.html#batchnorm2d))\n",
        "- Изменить количество слоев и их толщину\n",
        "- Изменять количество эпох тренировки\n",
        "- Попробовать и другие агментации"
      ]
    },
    {
      "cell_type": "code",
      "metadata": {
        "id": "VHNDv4kfnG1j",
        "colab_type": "code",
        "outputId": "1225dd47-dfab-442c-e8f4-2c9c19d8c81f",
        "colab": {
          "base_uri": "https://localhost:8080/",
          "height": 278
        }
      },
      "source": [
        "epoch_num = 15\n",
        "\n",
        "new_model = nn.Sequential(\n",
        "          nn.Conv2d(3, 64, 3, padding=1),\n",
        "          nn.ReLU(inplace=True),\n",
        "          nn.MaxPool2d(4),\n",
        "          nn.BatchNorm2d(64),\n",
        "          nn.Conv2d(64, 128, 3, padding=1),\n",
        "          nn.ReLU(inplace=True),\n",
        "          nn.BatchNorm2d(128),\n",
        "          Flattener(),\n",
        "          nn.Linear(128*2*2, 120),\n",
        "          nn.Linear(120, 10),\n",
        "      )\n",
        "\n",
        "new_model.type(torch.cuda.FloatTensor)\n",
        "new_model.to(device)\n",
        "loss = nn.CrossEntropyLoss().type(torch.cuda.FloatTensor)\n",
        "\n",
        "optimizer = optim.Adam(new_model.parameters(), lr=1e-2, weight_decay=1e-2)\n",
        "step_lr = torch.optim.lr_scheduler.StepLR(optimizer, step_size=5, gamma=0.1)\n",
        "\n",
        "loss_history, train_history, val_history = \\\n",
        "  train_model(new_model, train_aug_loader, val_loader, loss, optimizer, epoch_num, scheduler=step_lr)"
      ],
      "execution_count": 0,
      "outputs": [
        {
          "output_type": "stream",
          "text": [
            "Average loss: 1.990156, Train accuracy: 0.279323, Val accuracy: 0.324892\n",
            "Average loss: 1.773163, Train accuracy: 0.351756, Val accuracy: 0.386117\n",
            "Average loss: 1.717432, Train accuracy: 0.379176, Val accuracy: 0.359088\n",
            "Average loss: 1.695399, Train accuracy: 0.389141, Val accuracy: 0.332878\n",
            "Average loss: 1.681706, Train accuracy: 0.394055, Val accuracy: 0.380725\n",
            "Average loss: 1.560787, Train accuracy: 0.444579, Val accuracy: 0.435806\n",
            "Average loss: 1.498971, Train accuracy: 0.470805, Val accuracy: 0.456624\n",
            "Average loss: 1.462743, Train accuracy: 0.485275, Val accuracy: 0.472459\n",
            "Average loss: 1.435267, Train accuracy: 0.493670, Val accuracy: 0.463518\n",
            "Average loss: 1.418873, Train accuracy: 0.499573, Val accuracy: 0.505221\n",
            "Average loss: 1.381603, Train accuracy: 0.514657, Val accuracy: 0.507679\n",
            "Average loss: 1.367208, Train accuracy: 0.519657, Val accuracy: 0.507269\n",
            "Average loss: 1.366775, Train accuracy: 0.518718, Val accuracy: 0.508088\n",
            "Average loss: 1.365597, Train accuracy: 0.521329, Val accuracy: 0.514368\n",
            "Average loss: 1.357131, Train accuracy: 0.525595, Val accuracy: 0.510272\n"
          ],
          "name": "stdout"
        }
      ]
    },
    {
      "cell_type": "markdown",
      "metadata": {
        "colab_type": "text",
        "id": "ubeKgBcnhx7N"
      },
      "source": [
        "# Финальный аккорд - проверим лучшую модель на test set\n",
        "\n",
        "В качестве разнообразия - напишите код для прогона модели на test set вы.\n",
        "\n",
        "В результате вы должны натренировать модель, которая покажет более **90%** точности на test set.  \n",
        "Как водится, лучший результат в группе получит дополнительные баллы!"
      ]
    },
    {
      "cell_type": "code",
      "metadata": {
        "id": "liexzxueG_QW",
        "colab_type": "code",
        "outputId": "df2a30d4-bc41-4e94-cc53-57ce744abd48",
        "colab": {
          "base_uri": "https://localhost:8080/",
          "height": 34
        }
      },
      "source": [
        "test_loader = torch.utils.data.DataLoader(data_test)\n",
        "\n",
        "final_test_accuracy = compute_accuracy(new_model, test_loader)\n",
        "print(\"Final test accuracy - \", final_test_accuracy)"
      ],
      "execution_count": 0,
      "outputs": [
        {
          "output_type": "stream",
          "text": [
            "Final test accuracy -  0.898740012292563\n"
          ],
          "name": "stdout"
        }
      ]
    }
  ]
}